{
 "cells": [
  {
   "cell_type": "markdown",
   "metadata": {},
   "source": [
    "### Importing Libraires and CSV"
   ]
  },
  {
   "cell_type": "code",
   "execution_count": 72,
   "metadata": {},
   "outputs": [
    {
     "name": "stderr",
     "output_type": "stream",
     "text": [
      "/var/folders/69/lf6vfqbd7wxb691hjhqbw0980000gn/T/ipykernel_696/2280191482.py:4: DtypeWarning: Columns (1,11,15) have mixed types. Specify dtype option on import or set low_memory=False.\n",
      "  AM_data = pd.read_csv('Peru_2019_AudioMoth_Data_Full.csv')\n"
     ]
    }
   ],
   "source": [
    "import pandas as pd\n",
    "import random\n",
    "import os.path\n",
    "AM_data = pd.read_csv('Peru_2019_AudioMoth_Data_Full.csv')"
   ]
  },
  {
   "cell_type": "markdown",
   "metadata": {},
   "source": [
    "### Dataset with only minute long clips"
   ]
  },
  {
   "cell_type": "code",
   "execution_count": 73,
   "metadata": {},
   "outputs": [],
   "source": [
    "AM_data['Duration'].unique\n",
    "AM_data_minute = AM_data[AM_data['Duration']>=60.0]\n",
    "AM_data = AM_data_minute\n"
   ]
  },
  {
   "cell_type": "markdown",
   "metadata": {},
   "source": [
    "### Dataset with only Audiomoths with more than 24 clips"
   ]
  },
  {
   "cell_type": "code",
   "execution_count": 74,
   "metadata": {},
   "outputs": [],
   "source": [
    "b = AM_data['AudioMothCode'].value_counts()\n",
    "for audiomoth, counts in b.items():\n",
    "    if (counts < 24):\n",
    "        AM_data = AM_data.drop(AM_data[AM_data['AudioMothCode'] == audiomoth].index)\n",
    "AM_data = AM_data.reset_index(drop=True)"
   ]
  },
  {
   "cell_type": "markdown",
   "metadata": {},
   "source": [
    "### Add column for hour"
   ]
  },
  {
   "cell_type": "code",
   "execution_count": 75,
   "metadata": {},
   "outputs": [],
   "source": [
    "AM_data = AM_data.dropna(subset=['StartDateTime'])\n",
    "hours = []\n",
    "i=0\n",
    "while i < AM_data['StartDateTime'].size:\n",
    "    time = AM_data.iloc[i].get('StartDateTime')\n",
    "    hour = time.split(' ')[1].split(':')[0]\n",
    "    hour = int(hour)\n",
    "    hours.append(hour)\n",
    "    i+=1\n",
    "\n",
    "AM_data.insert(0,\"hour\",hours)"
   ]
  },
  {
   "cell_type": "markdown",
   "metadata": {},
   "source": [
    "### dataframe with one valid Audio Moth per hour"
   ]
  },
  {
   "cell_type": "code",
   "execution_count": 76,
   "metadata": {},
   "outputs": [],
   "source": [
    "list_AM_hour = []\n",
    "list_AM = AM_data['AudioMothCode'].unique()\n",
    "currhour = 0\n",
    "for currAM in list_AM:\n",
    "    for currhour in range(24):\n",
    "        dh = AM_data[(AM_data['hour'] == currhour) & (AM_data['AudioMothCode'] == currAM)].index\n",
    "        for i in dh:\n",
    "            list_AM_hour.append(i)\n",
    "        random_idx = random.randint(0,len(list_AM_hour)-1)\n",
    "        list_AM_hour.pop(random_idx)\n",
    "        AM_data.drop(index=list_AM_hour,inplace=True)\n",
    "        AM_data = AM_data.reset_index(drop=True)\n",
    "        list_AM_hour = []   \n",
    "AM_data.drop(columns='hour',inplace=True)"
   ]
  },
  {
   "cell_type": "markdown",
   "metadata": {},
   "source": [
    "### Convert to CSV"
   ]
  },
  {
   "cell_type": "code",
   "execution_count": 77,
   "metadata": {},
   "outputs": [],
   "source": [
    "AM_data.to_csv('Stratified_Peru_2019_AudioMoth_Data_Full.csv',index=False)"
   ]
  }
 ],
 "metadata": {
  "interpreter": {
   "hash": "aee8b7b246df8f9039afb4144a1f6fd8d2ca17a180786b69acc140d282b71a49"
  },
  "kernelspec": {
   "display_name": "Python 3.9.0 64-bit",
   "language": "python",
   "name": "python3"
  },
  "language_info": {
   "codemirror_mode": {
    "name": "ipython",
    "version": 3
   },
   "file_extension": ".py",
   "mimetype": "text/x-python",
   "name": "python",
   "nbconvert_exporter": "python",
   "pygments_lexer": "ipython3",
   "version": "3.9.0"
  },
  "orig_nbformat": 4
 },
 "nbformat": 4,
 "nbformat_minor": 2
}
